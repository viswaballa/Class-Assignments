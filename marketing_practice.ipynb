{
 "cells": [
  {
   "cell_type": "code",
   "execution_count": 4,
   "id": "4aaa2869-005e-4355-b901-7fc0362b8f9a",
   "metadata": {},
   "outputs": [
    {
     "name": "stdout",
     "output_type": "stream",
     "text": [
      "Hi Tom Bell! Thank you for your business of $0! You are a bronze member.\n",
      "Hi Maggie Johnson! Thank you for your business of $1032! You are a silver member.\n",
      "Hi John Spectre! Thank you for your business of $2543! You are a gold member.\n",
      "Hi Susy Simmons! Thank you for your business of $5322! You are a platinum member.\n"
     ]
    }
   ],
   "source": [
    "# -*- coding: utf-8 -*-\n",
    "\"\"\"Refresher activity.\n",
    "\n",
    "This script will use variables, conditionals, lists, dicts, and functions\n",
    "to print out different greetings for customers based on their\n",
    "business tier (determined by revenue).\n",
    "\"\"\"\n",
    "\n",
    "# List of dicts\n",
    "customers = [\n",
    "    { \"first_name\": \"Tom\", \"last_name\": \"Bell\", \"revenue\": 0 },\n",
    "    { \"first_name\": \"Maggie\", \"last_name\": \"Johnson\", \"revenue\": 1032 },\n",
    "    { \"first_name\": \"John\", \"last_name\": \"Spectre\", \"revenue\": 2543 },\n",
    "    { \"first_name\": \"Susy\", \"last_name\": \"Simmons\", \"revenue\": 5322 }\n",
    "]\n",
    "\n",
    "# @TODO Define a function that accepts a customer first_name, last_name, and\n",
    "# revenue and returns a custom greeting with the full name.\n",
    "\n",
    "def create_greeting(first_name, last_name, revenue):\n",
    "    if revenue > 3000: \n",
    "        greeting = f\"Hi {first_name} {last_name}! Thank you for your business of ${revenue}! You are a platinum member.\"\n",
    "    elif (revenue > 2000 and revenue <= 3000): \n",
    "        greeting = f\"Hi {first_name} {last_name}! Thank you for your business of ${revenue}! You are a gold member.\"\n",
    "    elif (revenue > 1000 and revenue <= 2000):\n",
    "        greeting = f\"Hi {first_name} {last_name}! Thank you for your business of ${revenue}! You are a silver member.\"\n",
    "    elif (revenue >= 0 and revenue <= 1000):\n",
    "        greeting = f\"Hi {first_name} {last_name}! Thank you for your business of ${revenue}! You are a bronze member.\"\n",
    "    \n",
    "    return greeting \n",
    "\n",
    "# @TODO: YOUR CODE HERE!\n",
    "\n",
    "for customer in customers: \n",
    "    greeting = create_greeting(customer['first_name'], customer['last_name'], customer['revenue'])\n",
    "    print(greeting)"
   ]
  },
  {
   "cell_type": "code",
   "execution_count": null,
   "id": "b7b8f35a-6fa2-48de-99d3-2570e4688b08",
   "metadata": {},
   "outputs": [],
   "source": []
  }
 ],
 "metadata": {
  "kernelspec": {
   "display_name": "Python 3 (ipykernel)",
   "language": "python",
   "name": "python3"
  },
  "language_info": {
   "codemirror_mode": {
    "name": "ipython",
    "version": 3
   },
   "file_extension": ".py",
   "mimetype": "text/x-python",
   "name": "python",
   "nbconvert_exporter": "python",
   "pygments_lexer": "ipython3",
   "version": "3.9.13"
  }
 },
 "nbformat": 4,
 "nbformat_minor": 5
}
