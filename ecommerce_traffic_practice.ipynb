{
 "cells": [
  {
   "cell_type": "code",
   "execution_count": 2,
   "id": "f2f80919-0151-45a1-9d71-e78b41c062df",
   "metadata": {},
   "outputs": [
    {
     "ename": "ImportError",
     "evalue": "cannot import name 'path' from 'pathlib' (C:\\Users\\asus\\anaconda3\\lib\\pathlib.py)",
     "output_type": "error",
     "traceback": [
      "\u001b[1;31m---------------------------------------------------------------------------\u001b[0m",
      "\u001b[1;31mImportError\u001b[0m                               Traceback (most recent call last)",
      "\u001b[1;32m~\\AppData\\Local\\Temp\\ipykernel_9848\\2939254119.py\u001b[0m in \u001b[0;36m<module>\u001b[1;34m\u001b[0m\n\u001b[0;32m      9\u001b[0m \u001b[1;33m\u001b[0m\u001b[0m\n\u001b[0;32m     10\u001b[0m \u001b[1;31m# @TODO: From the pathlib library, import the main class Path\u001b[0m\u001b[1;33m\u001b[0m\u001b[1;33m\u001b[0m\u001b[0m\n\u001b[1;32m---> 11\u001b[1;33m \u001b[1;32mfrom\u001b[0m \u001b[0mpathlib\u001b[0m \u001b[1;32mimport\u001b[0m \u001b[0mpath\u001b[0m\u001b[1;33m\u001b[0m\u001b[1;33m\u001b[0m\u001b[0m\n\u001b[0m\u001b[0;32m     12\u001b[0m \u001b[1;33m\u001b[0m\u001b[0m\n\u001b[0;32m     13\u001b[0m \u001b[1;31m# @TODO: Check the current directory where the Python program is executing from\u001b[0m\u001b[1;33m\u001b[0m\u001b[1;33m\u001b[0m\u001b[0m\n",
      "\u001b[1;31mImportError\u001b[0m: cannot import name 'path' from 'pathlib' (C:\\Users\\asus\\anaconda3\\lib\\pathlib.py)"
     ]
    }
   ],
   "source": [
    "# -*- coding: utf-8 -*-\n",
    "\"\"\"Student Do: E-Commerce Traffic.\n",
    "\n",
    "This script will parse through a text file and sum the total\n",
    "number of customers and the count of days in the text file to\n",
    "calculate the daily average of customer traffic for an e-commerce\n",
    "business.\n",
    "\"\"\"\n",
    "\n",
    "# @TODO: From the pathlib library, import the main class Path\n",
    "from pathlib import path\n",
    "\n",
    "# @TODO: Check the current directory where the Python program is executing from\n",
    "print(f\"Current Working Directory: {Path.cwd()}\")\n",
    "\n",
    "# @TODO: Set the path using Pathlib\n",
    "filepath = Path(\"../Lecture Activities/customer_traffic.txt\")\n",
    "\n",
    "# Initialize variables\n",
    "customer_total = 0\n",
    "day_count = 0\n",
    "\n",
    "# @TODO: Open the file in \"read\" mode ('r') and store the contents in the variable 'file'\n",
    "with open(filepath, \"r\") as file:\n",
    "    \n",
    "    # @TODO: Parse the file line by line\n",
    "    for line in file:  \n",
    "        # @TODO: Convert the number in the text file from string to int (allows for numerical calculations)\n",
    "        number = int(line)\n",
    "        # @TODO: Sum the total and count of the numbers in the text file\n",
    "        customer_total += number\n",
    "        day_count += 1\n",
    "\n",
    "# @TODO: Print out customer_total and day_count\n",
    "\n",
    "print(f\"customer_total: {customer_total}\")\n",
    "print(f\"day_count: {day_count}\")\n",
    "print(\"------------------------------------\")\n",
    "\n",
    "# @TODO: Calculate the average\n",
    "daily_average = customer_total/day_count\n",
    "print(f\"daily_average: {daily_average}\")\n",
    "\n",
    "\n",
    "# @TODO: Set output file name\n",
    "output_path = 'output.txt'\n",
    "\n",
    "# @TODO: Open the output path as a file object\n",
    "with open(output_path, 'w') as file:\n",
    "    # @TODO: Write daily_average to the output file, convert to string\n",
    "    file.write(f\"There were {customer_total} customers over the course of {day_count} days.\\n\")\n",
    "    file.write(f\"The average daily customer traffic is {daily_average} customers per day.\")\n",
    "    \n",
    "\n"
   ]
  },
  {
   "cell_type": "code",
   "execution_count": null,
   "id": "438b7475-34cb-4642-b406-84512c69df2f",
   "metadata": {},
   "outputs": [],
   "source": []
  }
 ],
 "metadata": {
  "kernelspec": {
   "display_name": "Python 3 (ipykernel)",
   "language": "python",
   "name": "python3"
  },
  "language_info": {
   "codemirror_mode": {
    "name": "ipython",
    "version": 3
   },
   "file_extension": ".py",
   "mimetype": "text/x-python",
   "name": "python",
   "nbconvert_exporter": "python",
   "pygments_lexer": "ipython3",
   "version": "3.9.13"
  }
 },
 "nbformat": 4,
 "nbformat_minor": 5
}
