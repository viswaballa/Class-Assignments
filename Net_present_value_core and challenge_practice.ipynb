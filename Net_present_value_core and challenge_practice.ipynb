{
 "cells": [
  {
   "cell_type": "code",
   "execution_count": 3,
   "id": "b72c7828-213c-4b87-989d-6c161aa99ebe",
   "metadata": {},
   "outputs": [
    {
     "name": "stdout",
     "output_type": "stream",
     "text": [
      "{'conservative': 267.94617853971704, 'neutral': 401.91926780957544, 'aggresive': 285.8923570794341}\n",
      "The optimal project scenario to undertake is 'neutral' with a NPV of 401.91926780957544\n",
      "conservative 267.94617853971704\n",
      "neutral 401.91926780957544\n",
      "aggresive 285.8923570794341\n",
      "---------------------------------------------------\n",
      "The project scenario with the max NPV value is 'neutral' with a NPV of 401.91926780957544\n"
     ]
    }
   ],
   "source": [
    "# -*- coding: utf-8 -*-\n",
    "\"\"\"Student Activity: Financial Analysis using NPV.\n",
    "\n",
    "This script will choose the optimal project scenario to\n",
    "undertake based on max NPV values.\n",
    "\"\"\"\n",
    "\n",
    "# @TODO: Import the NumPy Financial (numpy_financial) library\n",
    "import numpy_financial as npf\n",
    "\n",
    "# @TODO: You may need to run `pip install numpy-financial` in your terminal to install the library\n",
    "\n",
    "# Discount Rate\n",
    "discount_rate = .1\n",
    "\n",
    "# Initial Investment, Cash Flow 1, Cash Flow 2, Cash Flow 3, Cash Flow 4\n",
    "cash_flows_conservative = [-1000, 400, 400, 400, 400]\n",
    "cash_flows_neutral = [-1500, 600, 600, 600, 600]\n",
    "cash_flows_aggressive = [-2250, 800, 800, 800, 800]\n",
    "\n",
    "# @TODO: Initialize dictionary to hold NPV return values\n",
    "npv_dict = {}\n",
    "\n",
    "# @TODO: Calculate the NPV for each scenario\n",
    "npv_dict['conservative'] = npf.npv(discount_rate, cash_flows_conservative)\n",
    "npv_dict['neutral'] = npf.npv(discount_rate, cash_flows_neutral)\n",
    "npv_dict['aggresive'] = npf.npv(discount_rate, cash_flows_aggressive)\n",
    "\n",
    "# @TODO: Manually Choose the project with the highest NPV value\n",
    "\n",
    "print(npv_dict)\n",
    "print(f\"The optimal project scenario to undertake is 'neutral' with a NPV of {npv_dict['neutral']}\")\n",
    "\n",
    "# CHALLENGE\n",
    "\n",
    "max_value = 0\n",
    "max_key = 0\n",
    "\n",
    "# Find the Max-Key value pair\n",
    "\n",
    "for key, value in npv_dict.items():\n",
    "    print(f\"{key} {value}\")\n",
    "    \n",
    "    if max_value == 0:\n",
    "        max_value = value\n",
    "        max_key = key\n",
    "    elif value > max_value:\n",
    "        max_value = value \n",
    "        max_key = key \n",
    "\n",
    "\n",
    "print(\"---------------------------------------------------\")\n",
    "print(f\"The project scenario with the max NPV value is '{max_key}' with a NPV of {max_value}\")\n",
    "\n",
    "\n"
   ]
  },
  {
   "cell_type": "code",
   "execution_count": null,
   "id": "17aad4c6-dbd6-49f0-b815-67d99c96ca1b",
   "metadata": {},
   "outputs": [],
   "source": []
  }
 ],
 "metadata": {
  "kernelspec": {
   "display_name": "Python 3 (ipykernel)",
   "language": "python",
   "name": "python3"
  },
  "language_info": {
   "codemirror_mode": {
    "name": "ipython",
    "version": 3
   },
   "file_extension": ".py",
   "mimetype": "text/x-python",
   "name": "python",
   "nbconvert_exporter": "python",
   "pygments_lexer": "ipython3",
   "version": "3.9.13"
  }
 },
 "nbformat": 4,
 "nbformat_minor": 5
}
