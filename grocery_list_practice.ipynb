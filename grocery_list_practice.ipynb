{
 "cells": [
  {
   "cell_type": "code",
   "execution_count": 24,
   "id": "d34df72c-d514-4935-a8e8-dfb1966248d0",
   "metadata": {
    "tags": []
   },
   "outputs": [
    {
     "name": "stdout",
     "output_type": "stream",
     "text": [
      "['water', 'butter', 'eggs', 'apples', 'cinnamon', 'sugar', 'milk']\n",
      "what are the first two items on the list?\n",
      "['water', 'butter']\n",
      "\n",
      "what are the last five items on the list?\n",
      "['eggs', 'apples', 'cinnamon', 'sugar', 'milk']\n",
      "\n",
      "what is every other item on the list starting from the 2nd item?\n",
      "['butter', 'apples', 'sugar']\n",
      "\n",
      "Need to add flour to the list\n",
      "['water', 'butter', 'eggs', 'apples', 'cinnamon', 'sugar', 'milk', 'flour']\n",
      "\n",
      "Change apples to gala apples\n",
      "['water', 'butter', 'eggs', 'gala apples', 'cinnamon', 'sugar', 'milk', 'flour']\n",
      "\n",
      "What are the total number of items in the grocery list?\n",
      "8\n",
      "\n",
      "Where is gala apples in the list index?\n",
      "['water', 'butter', 'eggs', 'gala apples', 'cinnamon', 'sugar', 'milk', 'flour']\n",
      "3\n",
      "\n",
      "I already have sugar\n",
      "['water', 'butter', 'eggs', 'gala apples', 'cinnamon', 'milk', 'flour']\n",
      "\n",
      "No need for water either\n",
      "['butter', 'eggs', 'gala apples', 'cinnamon', 'milk', 'flour']\n",
      "\n",
      "I have flour at home too\n",
      "['butter', 'eggs', 'gala apples', 'cinnamon', 'milk']\n",
      "\n"
     ]
    }
   ],
   "source": [
    "groceries = [\"water\", \"butter\", \"eggs\", \"apples\", \"cinnamon\", \"sugar\", \"milk\"]\n",
    "print (groceries)\n",
    "\n",
    "print(\"what are the first two items on the list?\")\n",
    "print(groceries[:2])\n",
    "print()\n",
    "\n",
    "print(\"what are the last five items on the list?\")\n",
    "print(groceries[2:])\n",
    "print()\n",
    "\n",
    "print(\"what is every other item on the list starting from the 2nd item?\")\n",
    "print(groceries[1::2])\n",
    "print()\n",
    "\n",
    "print(\"Need to add flour to the list\")\n",
    "groceries.append(\"flour\")\n",
    "print(groceries)\n",
    "print()\n",
    "\n",
    "print(\"Change apples to gala apples\")\n",
    "groceries[3] = \"gala apples\"\n",
    "print(groceries) \n",
    "print()\n",
    "\n",
    "print(\"What are the total number of items in the grocery list?\")\n",
    "print(len(groceries))\n",
    "print()\n",
    "\n",
    "\n",
    "##CHALLENGE \n",
    "\n",
    "print(\"Where is gala apples in the list index?\")\n",
    "print(groceries)\n",
    "print(groceries.index(\"gala apples\"))\n",
    "print()\n",
    "\n",
    "print(\"I already have sugar\")\n",
    "groceries.remove(\"sugar\")\n",
    "print(groceries)\n",
    "print()\n",
    "\n",
    "print(\"No need for water either\")\n",
    "water_index = groceries.index(\"water\")\n",
    "groceries.pop(water_index)\n",
    "print(groceries)\n",
    "print()\n",
    "\n",
    "print(\"I have flour at home too\")\n",
    "groceries.pop(-1)\n",
    "print(groceries)\n",
    "print()\n"
   ]
  },
  {
   "cell_type": "code",
   "execution_count": null,
   "id": "2e9782a2-f1e9-413a-9fad-b7cee66e7906",
   "metadata": {},
   "outputs": [],
   "source": []
  },
  {
   "cell_type": "code",
   "execution_count": null,
   "id": "5d62043f-29b5-4696-a76d-2bd6cd377184",
   "metadata": {},
   "outputs": [],
   "source": []
  }
 ],
 "metadata": {
  "kernelspec": {
   "display_name": "Python 3 (ipykernel)",
   "language": "python",
   "name": "python3"
  },
  "language_info": {
   "codemirror_mode": {
    "name": "ipython",
    "version": 3
   },
   "file_extension": ".py",
   "mimetype": "text/x-python",
   "name": "python",
   "nbconvert_exporter": "python",
   "pygments_lexer": "ipython3",
   "version": "3.9.13"
  }
 },
 "nbformat": 4,
 "nbformat_minor": 5
}
